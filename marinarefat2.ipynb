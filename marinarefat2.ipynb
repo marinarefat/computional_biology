{
 "cells": [
  {
   "cell_type": "code",
   "execution_count": 1,
   "id": "dca1e00e",
   "metadata": {},
   "outputs": [],
   "source": [
    "import cobra"
   ]
  },
  {
   "cell_type": "code",
   "execution_count": 2,
   "id": "494f2557",
   "metadata": {},
   "outputs": [],
   "source": [
    "from cobra import Model , Reaction ,Metabolite"
   ]
  },
  {
   "cell_type": "code",
   "execution_count": 3,
   "id": "c37a7244",
   "metadata": {},
   "outputs": [],
   "source": [
    "my_model= Model(\"my_model\")"
   ]
  },
  {
   "cell_type": "code",
   "execution_count": 13,
   "id": "7c6c4722",
   "metadata": {},
   "outputs": [],
   "source": [
    "###### reaction  =========>glucose***** r0\n",
    "r0=Reaction(\"r0\")\n",
    "r0.name=\"r0\"\n",
    "r0.lower_bound=1\n",
    "r0.upper_bound=1"
   ]
  },
  {
   "cell_type": "code",
   "execution_count": 14,
   "id": "55c20fe3",
   "metadata": {},
   "outputs": [],
   "source": [
    "###### reaction  glucose=========>AminoAcid**** r1\n",
    "r1=Reaction(\"r1\")\n",
    "r1.name=\"r1\"\n",
    "r1.lower_bound=0\n",
    "r1.upper_bound=1000\n"
   ]
  },
  {
   "cell_type": "code",
   "execution_count": 15,
   "id": "83f7ef23",
   "metadata": {},
   "outputs": [],
   "source": [
    "\n",
    "###### reaction  AminoAcid=========>Biomass**** r2\n",
    "r2=Reaction(\"r2\")\n",
    "r2.name=\"r2\"\n",
    "r2.lower_bound=0\n",
    "r2.upper_bound=1000\n"
   ]
  },
  {
   "cell_type": "code",
   "execution_count": 16,
   "id": "6ab4c6f2",
   "metadata": {},
   "outputs": [],
   "source": [
    "###### reaction  =========>Biomass*******r_f \n",
    "r_f=Reaction(\"r_f\")\n",
    "r_f.name=\"r_f\"\n",
    "\n",
    "r_f.lower_bound=0\n",
    "r_f.upper_bound=1000"
   ]
  },
  {
   "cell_type": "code",
   "execution_count": 17,
   "id": "0fca9f8a",
   "metadata": {},
   "outputs": [],
   "source": [
    "\n",
    "g=Metabolite('g',compartment=\"c\")\n",
    "A=Metabolite('A',compartment=\"c\")\n",
    "B=Metabolite('B',compartment=\"c\")"
   ]
  },
  {
   "cell_type": "code",
   "execution_count": 18,
   "id": "f2c72953",
   "metadata": {},
   "outputs": [],
   "source": [
    "\n",
    "r0.add_metabolites({g:1})\n",
    "r1.add_metabolites({A:1,g:-1})\n",
    "r2.add_metabolites({B:1,A:-9.09})\n",
    "r_f.add_metabolites({B:-1})"
   ]
  },
  {
   "cell_type": "code",
   "execution_count": 19,
   "id": "cc49245b",
   "metadata": {},
   "outputs": [],
   "source": [
    "my_model.add_reactions([r0,r1,r2,r_f])"
   ]
  },
  {
   "cell_type": "code",
   "execution_count": 21,
   "id": "53e2db4e",
   "metadata": {},
   "outputs": [],
   "source": [
    "my_model.objective='r_f'"
   ]
  },
  {
   "cell_type": "code",
   "execution_count": 22,
   "id": "1bc7866a",
   "metadata": {},
   "outputs": [
    {
     "data": {
      "text/html": [
       "<strong><em>Optimal</em> solution with objective value 0.110</strong><br><div>\n",
       "<style scoped>\n",
       "    .dataframe tbody tr th:only-of-type {\n",
       "        vertical-align: middle;\n",
       "    }\n",
       "\n",
       "    .dataframe tbody tr th {\n",
       "        vertical-align: top;\n",
       "    }\n",
       "\n",
       "    .dataframe thead th {\n",
       "        text-align: right;\n",
       "    }\n",
       "</style>\n",
       "<table border=\"1\" class=\"dataframe\">\n",
       "  <thead>\n",
       "    <tr style=\"text-align: right;\">\n",
       "      <th></th>\n",
       "      <th>fluxes</th>\n",
       "      <th>reduced_costs</th>\n",
       "    </tr>\n",
       "  </thead>\n",
       "  <tbody>\n",
       "    <tr>\n",
       "      <th>r0</th>\n",
       "      <td>1.000000</td>\n",
       "      <td>0.220022</td>\n",
       "    </tr>\n",
       "    <tr>\n",
       "      <th>r1</th>\n",
       "      <td>1.000000</td>\n",
       "      <td>0.000000</td>\n",
       "    </tr>\n",
       "    <tr>\n",
       "      <th>r2</th>\n",
       "      <td>0.110011</td>\n",
       "      <td>0.000000</td>\n",
       "    </tr>\n",
       "    <tr>\n",
       "      <th>r_f</th>\n",
       "      <td>0.110011</td>\n",
       "      <td>0.000000</td>\n",
       "    </tr>\n",
       "  </tbody>\n",
       "</table>\n",
       "</div>"
      ],
      "text/plain": [
       "<Solution 0.110 at 0x2c6c8375100>"
      ]
     },
     "execution_count": 22,
     "metadata": {},
     "output_type": "execute_result"
    }
   ],
   "source": [
    "my_model.optimize()"
   ]
  },
  {
   "cell_type": "code",
   "execution_count": 23,
   "id": "9121f9fc",
   "metadata": {},
   "outputs": [
    {
     "data": {
      "text/html": [
       "<h3>Objective</h3><p>1.0 r_f = 0.11001100110011001</p><h4>Uptake</h4><table border=\"1\" class=\"dataframe\">\n",
       "  <thead>\n",
       "    <tr style=\"text-align: right;\">\n",
       "      <th>Metabolite</th>\n",
       "      <th>Reaction</th>\n",
       "      <th>Flux</th>\n",
       "      <th>C-Number</th>\n",
       "      <th>C-Flux</th>\n",
       "    </tr>\n",
       "  </thead>\n",
       "  <tbody>\n",
       "    <tr>\n",
       "      <td>g</td>\n",
       "      <td>r0</td>\n",
       "      <td>1</td>\n",
       "      <td>0</td>\n",
       "      <td>0.00%</td>\n",
       "    </tr>\n",
       "  </tbody>\n",
       "</table><h4>Secretion</h4><table border=\"1\" class=\"dataframe\">\n",
       "  <thead>\n",
       "    <tr style=\"text-align: right;\">\n",
       "      <th>Metabolite</th>\n",
       "      <th>Reaction</th>\n",
       "      <th>Flux</th>\n",
       "      <th>C-Number</th>\n",
       "      <th>C-Flux</th>\n",
       "    </tr>\n",
       "  </thead>\n",
       "  <tbody>\n",
       "    <tr>\n",
       "      <td>B</td>\n",
       "      <td>r_f</td>\n",
       "      <td>-0.11</td>\n",
       "      <td>0</td>\n",
       "      <td>0.00%</td>\n",
       "    </tr>\n",
       "  </tbody>\n",
       "</table>"
      ],
      "text/plain": [
       "<cobra.summary.model_summary.ModelSummary at 0x2c6c8375cd0>"
      ]
     },
     "execution_count": 23,
     "metadata": {},
     "output_type": "execute_result"
    }
   ],
   "source": [
    "my_model.summary()"
   ]
  },
  {
   "cell_type": "code",
   "execution_count": 24,
   "id": "c6980e9e",
   "metadata": {},
   "outputs": [],
   "source": [
    "cobra.io.save_json_model(my_model,\"marinarefat2.json\")"
   ]
  },
  {
   "cell_type": "code",
   "execution_count": 25,
   "id": "d15201c1",
   "metadata": {},
   "outputs": [],
   "source": [
    "import escher"
   ]
  },
  {
   "cell_type": "code",
   "execution_count": 26,
   "id": "10c46586",
   "metadata": {},
   "outputs": [],
   "source": [
    "from escher import Builder"
   ]
  },
  {
   "cell_type": "code",
   "execution_count": 27,
   "id": "ff1be534",
   "metadata": {},
   "outputs": [],
   "source": [
    "builder=Builder()"
   ]
  },
  {
   "cell_type": "code",
   "execution_count": 28,
   "id": "b2b6b28a",
   "metadata": {},
   "outputs": [
    {
     "data": {
      "application/vnd.jupyter.widget-view+json": {
       "model_id": "4eff52f2774d486a93dd3cf4fcbffdc2",
       "version_major": 2,
       "version_minor": 0
      },
      "text/plain": [
       "Builder()"
      ]
     },
     "metadata": {},
     "output_type": "display_data"
    }
   ],
   "source": [
    "builder"
   ]
  },
  {
   "cell_type": "code",
   "execution_count": null,
   "id": "eb58c84a",
   "metadata": {},
   "outputs": [],
   "source": []
  }
 ],
 "metadata": {
  "kernelspec": {
   "display_name": "Python 3",
   "language": "python",
   "name": "python3"
  },
  "language_info": {
   "codemirror_mode": {
    "name": "ipython",
    "version": 3
   },
   "file_extension": ".py",
   "mimetype": "text/x-python",
   "name": "python",
   "nbconvert_exporter": "python",
   "pygments_lexer": "ipython3",
   "version": "3.8.8"
  }
 },
 "nbformat": 4,
 "nbformat_minor": 5
}
